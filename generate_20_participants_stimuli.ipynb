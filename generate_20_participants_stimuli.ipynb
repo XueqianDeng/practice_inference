{
 "cells": [
  {
   "cell_type": "markdown",
   "source": [
    "import all sets"
   ],
   "metadata": {
    "collapsed": false
   }
  },
  {
   "cell_type": "code",
   "execution_count": 13,
   "metadata": {
    "collapsed": true
   },
   "outputs": [],
   "source": [
    "import pandas as pd\n",
    "import os\n",
    "import numpy as np"
   ]
  },
  {
   "cell_type": "code",
   "execution_count": 14,
   "outputs": [],
   "source": [
    "# Assuming current_directory is defined elsewhere\n",
    "current_directory = os.getcwd()\n",
    "\n",
    "# File path\n",
    "csv_file_path_pandas = current_directory + '/valid_perm_sets_pandas.csv'\n",
    "\n",
    "# Read the CSV file into a pandas DataFrame\n",
    "data = pd.read_csv(csv_file_path_pandas)"
   ],
   "metadata": {
    "collapsed": false
   }
  },
  {
   "cell_type": "code",
   "execution_count": 15,
   "outputs": [
    {
     "name": "stdout",
     "output_type": "stream",
     "text": [
      "[['(1, 2, 3, 4, 5)' '(2, 1, 4, 5, 3)' '(3, 4, 5, 1, 2)']\n",
      " ['(1, 2, 3, 4, 5)' '(2, 1, 4, 5, 3)' '(3, 4, 5, 2, 1)']\n",
      " ['(1, 2, 3, 4, 5)' '(2, 1, 4, 5, 3)' '(3, 5, 1, 2, 4)']\n",
      " ...\n",
      " ['(3, 5, 4, 2, 1)' '(4, 3, 5, 1, 2)' '(5, 1, 2, 4, 3)']\n",
      " ['(3, 5, 4, 2, 1)' '(4, 3, 5, 1, 2)' '(5, 2, 1, 3, 4)']\n",
      " ['(3, 5, 4, 2, 1)' '(4, 3, 5, 1, 2)' '(5, 2, 1, 4, 3)']]\n",
      "11040\n"
     ]
    }
   ],
   "source": [
    "numpy_array = data.values\n",
    "print(numpy_array)\n",
    "print(len(numpy_array))"
   ],
   "metadata": {
    "collapsed": false
   }
  },
  {
   "cell_type": "code",
   "execution_count": 16,
   "outputs": [
    {
     "name": "stdout",
     "output_type": "stream",
     "text": [
      "9682\n"
     ]
    }
   ],
   "source": [
    "random_number = np.random.randint(0, 11041)  # upper bound is exclusive\n",
    "print(random_number)"
   ],
   "metadata": {
    "collapsed": false
   }
  },
  {
   "cell_type": "markdown",
   "source": [
    "create local directory for saving participant stimuli"
   ],
   "metadata": {
    "collapsed": false
   }
  },
  {
   "cell_type": "code",
   "execution_count": 18,
   "outputs": [
    {
     "name": "stdout",
     "output_type": "stream",
     "text": [
      "Folder '/Users/billdeng/PycharmProjects/XueqianDeng.github.io/participant_data' already exists.\n"
     ]
    }
   ],
   "source": [
    "# Directory path where you want to create the folder\n",
    "here = os.getcwd()\n",
    "directory = here + \"/participant_data\"\n",
    "\n",
    "# Create the directory if it doesn't exist\n",
    "if not os.path.exists(directory):\n",
    "    os.makedirs(directory)\n",
    "    print(f\"Folder '{directory}' created successfully.\")\n",
    "else:\n",
    "    print(f\"Folder '{directory}' already exists.\")"
   ],
   "metadata": {
    "collapsed": false
   }
  },
  {
   "cell_type": "code",
   "execution_count": 23,
   "outputs": [],
   "source": [
    "def save_a_participant(participant_ID):\n",
    "    ran_number = np.random.randint(0, 11041)  # upper bound is exclusive\n",
    "    mapping = numpy_array[ran_number]\n",
    "    stimuli_order_context_1 = np.random.choice([0, 1, 2, 3, 4], size=100)\n",
    "    stimuli_order_context_2 = np.random.choice([0, 1, 2, 3, 4], size=100)\n",
    "    stimuli_order_context_3 = np.random.choice([0, 1, 2, 3, 4], size=100)\n",
    "    stimuli = {\n",
    "        'context_1': stimuli_order_context_1,\n",
    "        'context_2': stimuli_order_context_2,\n",
    "        'context_3':  stimuli_order_context_3}\n",
    "    mapping = {'mapping': mapping}\n",
    "    stimuli_data_frame = pd.DataFrame(stimuli)\n",
    "    mapping_data_frame = pd.DataFrame(mapping)\n",
    "    # Define file paths for saving\n",
    "    c_directory = directory + '/participant' + str(participant_ID) + '/'\n",
    "    if not os.path.exists(c_directory):\n",
    "        os.makedirs(c_directory)\n",
    "        print(f\"Folder '{c_directory}' created successfully.\")\n",
    "    else:\n",
    "        print(f\"Folder '{c_directory}' already exists.\")\n",
    "    stimuli_file_path = c_directory + 'stimuli.csv'\n",
    "    mapping_file_path = c_directory + 'mapping.csv'\n",
    "    # Save DataFrames to CSV files\n",
    "    stimuli_data_frame.to_csv(stimuli_file_path, index=False)\n",
    "    mapping_data_frame.to_csv(mapping_file_path, index=False)"
   ],
   "metadata": {
    "collapsed": false
   }
  },
  {
   "cell_type": "code",
   "execution_count": 24,
   "outputs": [
    {
     "name": "stdout",
     "output_type": "stream",
     "text": [
      "Folder '/Users/billdeng/PycharmProjects/XueqianDeng.github.io/participant_data/participant1/' created successfully.\n"
     ]
    }
   ],
   "source": [
    "save_a_participant(1)\n",
    "\n"
   ],
   "metadata": {
    "collapsed": false
   }
  },
  {
   "cell_type": "code",
   "execution_count": 55,
   "outputs": [
    {
     "ename": "NameError",
     "evalue": "name 'stimuli' is not defined",
     "output_type": "error",
     "traceback": [
      "\u001B[0;31m---------------------------------------------------------------------------\u001B[0m",
      "\u001B[0;31mNameError\u001B[0m                                 Traceback (most recent call last)",
      "Cell \u001B[0;32mIn[55], line 1\u001B[0m\n\u001B[0;32m----> 1\u001B[0m \u001B[38;5;28mprint\u001B[39m(stimuli\u001B[38;5;241m.\u001B[39mvalues())\n",
      "\u001B[0;31mNameError\u001B[0m: name 'stimuli' is not defined"
     ]
    }
   ],
   "source": [],
   "metadata": {
    "collapsed": false
   }
  },
  {
   "cell_type": "code",
   "execution_count": null,
   "outputs": [],
   "source": [],
   "metadata": {
    "collapsed": false
   }
  }
 ],
 "metadata": {
  "kernelspec": {
   "display_name": "Python 3",
   "language": "python",
   "name": "python3"
  },
  "language_info": {
   "codemirror_mode": {
    "name": "ipython",
    "version": 2
   },
   "file_extension": ".py",
   "mimetype": "text/x-python",
   "name": "python",
   "nbconvert_exporter": "python",
   "pygments_lexer": "ipython2",
   "version": "2.7.6"
  }
 },
 "nbformat": 4,
 "nbformat_minor": 0
}
