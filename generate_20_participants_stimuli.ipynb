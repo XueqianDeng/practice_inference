{
 "cells": [
  {
   "cell_type": "markdown",
   "source": [
    "import all sets"
   ],
   "metadata": {
    "collapsed": false
   }
  },
  {
   "cell_type": "code",
   "execution_count": 27,
   "metadata": {
    "collapsed": true
   },
   "outputs": [],
   "source": [
    "import pandas as pd\n",
    "import os\n",
    "import numpy as np"
   ]
  },
  {
   "cell_type": "code",
   "execution_count": 28,
   "outputs": [],
   "source": [
    "# Assuming current_directory is defined elsewhere\n",
    "current_directory = os.getcwd()\n",
    "\n",
    "# File path\n",
    "csv_file_path_pandas = current_directory + '/valid_perm_sets_pandas.csv'\n",
    "\n",
    "# Read the CSV file into a pandas DataFrame\n",
    "data = pd.read_csv(csv_file_path_pandas)"
   ],
   "metadata": {
    "collapsed": false
   }
  },
  {
   "cell_type": "code",
   "execution_count": 29,
   "outputs": [
    {
     "name": "stdout",
     "output_type": "stream",
     "text": [
      "[['(1, 2, 3, 4, 5)' '(2, 1, 4, 5, 3)' '(3, 4, 5, 1, 2)']\n",
      " ['(1, 2, 3, 4, 5)' '(2, 1, 4, 5, 3)' '(3, 4, 5, 2, 1)']\n",
      " ['(1, 2, 3, 4, 5)' '(2, 1, 4, 5, 3)' '(3, 5, 1, 2, 4)']\n",
      " ...\n",
      " ['(3, 5, 4, 2, 1)' '(4, 3, 5, 1, 2)' '(5, 1, 2, 4, 3)']\n",
      " ['(3, 5, 4, 2, 1)' '(4, 3, 5, 1, 2)' '(5, 2, 1, 3, 4)']\n",
      " ['(3, 5, 4, 2, 1)' '(4, 3, 5, 1, 2)' '(5, 2, 1, 4, 3)']]\n",
      "11040\n"
     ]
    }
   ],
   "source": [
    "numpy_array = data.values\n",
    "print(numpy_array)\n",
    "print(len(numpy_array))"
   ],
   "metadata": {
    "collapsed": false
   }
  },
  {
   "cell_type": "code",
   "execution_count": 30,
   "outputs": [
    {
     "name": "stdout",
     "output_type": "stream",
     "text": [
      "10062\n"
     ]
    }
   ],
   "source": [
    "random_number = np.random.randint(0, 11041)  # upper bound is exclusive\n",
    "print(random_number)"
   ],
   "metadata": {
    "collapsed": false
   }
  },
  {
   "cell_type": "markdown",
   "source": [
    "create local directory for saving participant stimuli"
   ],
   "metadata": {
    "collapsed": false
   }
  },
  {
   "cell_type": "code",
   "execution_count": 31,
   "outputs": [
    {
     "name": "stdout",
     "output_type": "stream",
     "text": [
      "Folder './participant_data' created successfully.\n"
     ]
    }
   ],
   "source": [
    "# Directory path where you want to create the folder\n",
    "directory = \"./participant_data\"\n",
    "\n",
    "# Create the directory if it doesn't exist\n",
    "if not os.path.exists(directory):\n",
    "    os.makedirs(directory)\n",
    "    print(f\"Folder '{directory}' created successfully.\")\n",
    "else:\n",
    "    print(f\"Folder '{directory}' already exists.\")"
   ],
   "metadata": {
    "collapsed": false
   }
  },
  {
   "cell_type": "code",
   "execution_count": 62,
   "outputs": [],
   "source": [
    "def save_a_participant(participant_ID):\n",
    "    random_number = np.random.randint(0, 11041)  # upper bound is exclusive\n",
    "    mapping = numpy_array[random_number]\n",
    "    stimuli_order_context_1 = np.random.choice([0, 1, 2, 3, 4], size=100)\n",
    "    stimuli_order_context_2 = np.random.choice([0, 1, 2, 3, 4], size=100)\n",
    "    stimuli_order_context_3 = np.random.choice([0, 1, 2, 3, 4], size=100)\n",
    "    stimuli = {'Participant_ID': [participant_ID],\n",
    "        'mapping': mapping,\n",
    "        'context_1': stimuli_order_context_1,\n",
    "        'context_2': stimuli_order_context_2,\n",
    "        'context_3':  stimuli_order_context_3}\n",
    "    print(stimuli.values())\n",
    "    # Equalize the lengths\n",
    "    max_length = max(len(item) for item in stimuli.values())\n",
    "    for key, value in stimuli.items():\n",
    "        if len(value) < max_length:\n",
    "            # Check if value is a pandas series\n",
    "            if isinstance(value, pd.Series):\n",
    "                # Append NaN values to reach the desired length\n",
    "                value = value.append(pd.Series([np.nan] * (max_length - len(value))), ignore_index=True)\n",
    "                stimuli[key] = value\n",
    "            elif isinstance(value, list):\n",
    "                stimuli[key] = value + [np.nan] * (max_length - len(value))\n",
    "\n",
    "    df = pd.DataFrame(stimuli)"
   ],
   "metadata": {
    "collapsed": false
   }
  },
  {
   "cell_type": "code",
   "execution_count": 63,
   "outputs": [
    {
     "name": "stdout",
     "output_type": "stream",
     "text": [
      "dict_values([[1], array(['(2, 5, 4, 1, 3)', '(3, 4, 5, 2, 1)', '(4, 1, 2, 3, 5)'],\n",
      "      dtype=object), array([4, 1, 0, 4, 2, 3, 0, 1, 1, 0, 2, 1, 2, 0, 2, 2, 1, 0, 3, 2, 4, 1,\n",
      "       0, 2, 1, 0, 0, 3, 1, 0, 2, 4, 1, 2, 2, 0, 3, 2, 0, 0, 1, 3, 3, 1,\n",
      "       2, 3, 0, 0, 2, 0, 1, 3, 1, 1, 1, 3, 3, 3, 3, 1, 3, 0, 1, 1, 1, 2,\n",
      "       2, 2, 1, 2, 2, 0, 3, 0, 3, 4, 0, 2, 2, 1, 2, 1, 1, 2, 4, 0, 0, 2,\n",
      "       4, 2, 4, 4, 0, 2, 2, 1, 2, 2, 4, 0]), array([4, 3, 4, 2, 0, 0, 4, 1, 3, 4, 2, 4, 2, 0, 1, 0, 3, 2, 0, 0, 2, 3,\n",
      "       2, 4, 1, 2, 0, 3, 0, 2, 2, 1, 2, 4, 2, 3, 0, 3, 3, 0, 0, 0, 4, 1,\n",
      "       2, 4, 2, 3, 2, 2, 4, 2, 2, 3, 3, 2, 0, 1, 3, 4, 1, 3, 2, 0, 2, 1,\n",
      "       4, 2, 0, 1, 4, 3, 0, 2, 4, 3, 2, 2, 4, 4, 4, 4, 2, 1, 0, 4, 0, 2,\n",
      "       1, 2, 1, 3, 3, 0, 1, 3, 4, 2, 1, 2]), array([1, 1, 3, 0, 0, 0, 0, 0, 4, 0, 1, 3, 3, 1, 3, 2, 2, 4, 3, 2, 0, 3,\n",
      "       1, 0, 4, 1, 1, 4, 0, 4, 3, 2, 1, 4, 1, 4, 0, 3, 0, 3, 1, 4, 0, 3,\n",
      "       2, 1, 3, 4, 3, 3, 4, 3, 3, 0, 0, 1, 1, 4, 2, 2, 4, 3, 2, 3, 3, 4,\n",
      "       0, 3, 0, 1, 1, 0, 4, 4, 3, 2, 1, 3, 4, 3, 1, 4, 4, 0, 1, 3, 0, 0,\n",
      "       1, 0, 2, 2, 0, 1, 0, 4, 2, 0, 1, 0])])\n"
     ]
    },
    {
     "ename": "ValueError",
     "evalue": "All arrays must be of the same length",
     "output_type": "error",
     "traceback": [
      "\u001B[0;31m---------------------------------------------------------------------------\u001B[0m",
      "\u001B[0;31mValueError\u001B[0m                                Traceback (most recent call last)",
      "Cell \u001B[0;32mIn[63], line 1\u001B[0m\n\u001B[0;32m----> 1\u001B[0m save_a_participant(\u001B[38;5;241m1\u001B[39m)\n",
      "Cell \u001B[0;32mIn[62], line 25\u001B[0m, in \u001B[0;36msave_a_participant\u001B[0;34m(participant_ID)\u001B[0m\n\u001B[1;32m     22\u001B[0m         \u001B[38;5;28;01melif\u001B[39;00m \u001B[38;5;28misinstance\u001B[39m(value, \u001B[38;5;28mlist\u001B[39m):\n\u001B[1;32m     23\u001B[0m             stimuli[key] \u001B[38;5;241m=\u001B[39m value \u001B[38;5;241m+\u001B[39m [np\u001B[38;5;241m.\u001B[39mnan] \u001B[38;5;241m*\u001B[39m (max_length \u001B[38;5;241m-\u001B[39m \u001B[38;5;28mlen\u001B[39m(value))\n\u001B[0;32m---> 25\u001B[0m df \u001B[38;5;241m=\u001B[39m pd\u001B[38;5;241m.\u001B[39mDataFrame(stimuli)\n",
      "File \u001B[0;32m~/anaconda3/lib/python3.11/site-packages/pandas/core/frame.py:664\u001B[0m, in \u001B[0;36mDataFrame.__init__\u001B[0;34m(self, data, index, columns, dtype, copy)\u001B[0m\n\u001B[1;32m    658\u001B[0m     mgr \u001B[38;5;241m=\u001B[39m \u001B[38;5;28mself\u001B[39m\u001B[38;5;241m.\u001B[39m_init_mgr(\n\u001B[1;32m    659\u001B[0m         data, axes\u001B[38;5;241m=\u001B[39m{\u001B[38;5;124m\"\u001B[39m\u001B[38;5;124mindex\u001B[39m\u001B[38;5;124m\"\u001B[39m: index, \u001B[38;5;124m\"\u001B[39m\u001B[38;5;124mcolumns\u001B[39m\u001B[38;5;124m\"\u001B[39m: columns}, dtype\u001B[38;5;241m=\u001B[39mdtype, copy\u001B[38;5;241m=\u001B[39mcopy\n\u001B[1;32m    660\u001B[0m     )\n\u001B[1;32m    662\u001B[0m \u001B[38;5;28;01melif\u001B[39;00m \u001B[38;5;28misinstance\u001B[39m(data, \u001B[38;5;28mdict\u001B[39m):\n\u001B[1;32m    663\u001B[0m     \u001B[38;5;66;03m# GH#38939 de facto copy defaults to False only in non-dict cases\u001B[39;00m\n\u001B[0;32m--> 664\u001B[0m     mgr \u001B[38;5;241m=\u001B[39m dict_to_mgr(data, index, columns, dtype\u001B[38;5;241m=\u001B[39mdtype, copy\u001B[38;5;241m=\u001B[39mcopy, typ\u001B[38;5;241m=\u001B[39mmanager)\n\u001B[1;32m    665\u001B[0m \u001B[38;5;28;01melif\u001B[39;00m \u001B[38;5;28misinstance\u001B[39m(data, ma\u001B[38;5;241m.\u001B[39mMaskedArray):\n\u001B[1;32m    666\u001B[0m     \u001B[38;5;28;01mimport\u001B[39;00m \u001B[38;5;21;01mnumpy\u001B[39;00m\u001B[38;5;21;01m.\u001B[39;00m\u001B[38;5;21;01mma\u001B[39;00m\u001B[38;5;21;01m.\u001B[39;00m\u001B[38;5;21;01mmrecords\u001B[39;00m \u001B[38;5;28;01mas\u001B[39;00m \u001B[38;5;21;01mmrecords\u001B[39;00m\n",
      "File \u001B[0;32m~/anaconda3/lib/python3.11/site-packages/pandas/core/internals/construction.py:493\u001B[0m, in \u001B[0;36mdict_to_mgr\u001B[0;34m(data, index, columns, dtype, typ, copy)\u001B[0m\n\u001B[1;32m    489\u001B[0m     \u001B[38;5;28;01melse\u001B[39;00m:\n\u001B[1;32m    490\u001B[0m         \u001B[38;5;66;03m# dtype check to exclude e.g. range objects, scalars\u001B[39;00m\n\u001B[1;32m    491\u001B[0m         arrays \u001B[38;5;241m=\u001B[39m [x\u001B[38;5;241m.\u001B[39mcopy() \u001B[38;5;28;01mif\u001B[39;00m \u001B[38;5;28mhasattr\u001B[39m(x, \u001B[38;5;124m\"\u001B[39m\u001B[38;5;124mdtype\u001B[39m\u001B[38;5;124m\"\u001B[39m) \u001B[38;5;28;01melse\u001B[39;00m x \u001B[38;5;28;01mfor\u001B[39;00m x \u001B[38;5;129;01min\u001B[39;00m arrays]\n\u001B[0;32m--> 493\u001B[0m \u001B[38;5;28;01mreturn\u001B[39;00m arrays_to_mgr(arrays, columns, index, dtype\u001B[38;5;241m=\u001B[39mdtype, typ\u001B[38;5;241m=\u001B[39mtyp, consolidate\u001B[38;5;241m=\u001B[39mcopy)\n",
      "File \u001B[0;32m~/anaconda3/lib/python3.11/site-packages/pandas/core/internals/construction.py:118\u001B[0m, in \u001B[0;36marrays_to_mgr\u001B[0;34m(arrays, columns, index, dtype, verify_integrity, typ, consolidate)\u001B[0m\n\u001B[1;32m    115\u001B[0m \u001B[38;5;28;01mif\u001B[39;00m verify_integrity:\n\u001B[1;32m    116\u001B[0m     \u001B[38;5;66;03m# figure out the index, if necessary\u001B[39;00m\n\u001B[1;32m    117\u001B[0m     \u001B[38;5;28;01mif\u001B[39;00m index \u001B[38;5;129;01mis\u001B[39;00m \u001B[38;5;28;01mNone\u001B[39;00m:\n\u001B[0;32m--> 118\u001B[0m         index \u001B[38;5;241m=\u001B[39m _extract_index(arrays)\n\u001B[1;32m    119\u001B[0m     \u001B[38;5;28;01melse\u001B[39;00m:\n\u001B[1;32m    120\u001B[0m         index \u001B[38;5;241m=\u001B[39m ensure_index(index)\n",
      "File \u001B[0;32m~/anaconda3/lib/python3.11/site-packages/pandas/core/internals/construction.py:666\u001B[0m, in \u001B[0;36m_extract_index\u001B[0;34m(data)\u001B[0m\n\u001B[1;32m    664\u001B[0m lengths \u001B[38;5;241m=\u001B[39m \u001B[38;5;28mlist\u001B[39m(\u001B[38;5;28mset\u001B[39m(raw_lengths))\n\u001B[1;32m    665\u001B[0m \u001B[38;5;28;01mif\u001B[39;00m \u001B[38;5;28mlen\u001B[39m(lengths) \u001B[38;5;241m>\u001B[39m \u001B[38;5;241m1\u001B[39m:\n\u001B[0;32m--> 666\u001B[0m     \u001B[38;5;28;01mraise\u001B[39;00m \u001B[38;5;167;01mValueError\u001B[39;00m(\u001B[38;5;124m\"\u001B[39m\u001B[38;5;124mAll arrays must be of the same length\u001B[39m\u001B[38;5;124m\"\u001B[39m)\n\u001B[1;32m    668\u001B[0m \u001B[38;5;28;01mif\u001B[39;00m have_dicts:\n\u001B[1;32m    669\u001B[0m     \u001B[38;5;28;01mraise\u001B[39;00m \u001B[38;5;167;01mValueError\u001B[39;00m(\n\u001B[1;32m    670\u001B[0m         \u001B[38;5;124m\"\u001B[39m\u001B[38;5;124mMixing dicts with non-Series may lead to ambiguous ordering.\u001B[39m\u001B[38;5;124m\"\u001B[39m\n\u001B[1;32m    671\u001B[0m     )\n",
      "\u001B[0;31mValueError\u001B[0m: All arrays must be of the same length"
     ]
    }
   ],
   "source": [
    "save_a_participant(1)\n",
    "\n"
   ],
   "metadata": {
    "collapsed": false
   }
  },
  {
   "cell_type": "code",
   "execution_count": 55,
   "outputs": [
    {
     "ename": "NameError",
     "evalue": "name 'stimuli' is not defined",
     "output_type": "error",
     "traceback": [
      "\u001B[0;31m---------------------------------------------------------------------------\u001B[0m",
      "\u001B[0;31mNameError\u001B[0m                                 Traceback (most recent call last)",
      "Cell \u001B[0;32mIn[55], line 1\u001B[0m\n\u001B[0;32m----> 1\u001B[0m \u001B[38;5;28mprint\u001B[39m(stimuli\u001B[38;5;241m.\u001B[39mvalues())\n",
      "\u001B[0;31mNameError\u001B[0m: name 'stimuli' is not defined"
     ]
    }
   ],
   "source": [
    "print(stimuli.values())"
   ],
   "metadata": {
    "collapsed": false
   }
  },
  {
   "cell_type": "code",
   "execution_count": null,
   "outputs": [],
   "source": [],
   "metadata": {
    "collapsed": false
   }
  }
 ],
 "metadata": {
  "kernelspec": {
   "display_name": "Python 3",
   "language": "python",
   "name": "python3"
  },
  "language_info": {
   "codemirror_mode": {
    "name": "ipython",
    "version": 2
   },
   "file_extension": ".py",
   "mimetype": "text/x-python",
   "name": "python",
   "nbconvert_exporter": "python",
   "pygments_lexer": "ipython2",
   "version": "2.7.6"
  }
 },
 "nbformat": 4,
 "nbformat_minor": 0
}
