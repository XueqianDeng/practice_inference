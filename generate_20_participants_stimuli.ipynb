{
 "cells": [
  {
   "cell_type": "markdown",
   "source": [
    "import all sets"
   ],
   "metadata": {
    "collapsed": false
   }
  },
  {
   "cell_type": "code",
   "execution_count": 27,
   "metadata": {
    "collapsed": true
   },
   "outputs": [],
   "source": [
    "import pandas as pd\n",
    "import os\n",
    "import numpy as np"
   ]
  },
  {
   "cell_type": "code",
   "execution_count": 28,
   "outputs": [],
   "source": [
    "# Assuming current_directory is defined elsewhere\n",
    "current_directory = os.getcwd()\n",
    "\n",
    "# File path\n",
    "csv_file_path_pandas = current_directory + '/valid_perm_sets_pandas.csv'\n",
    "\n",
    "# Read the CSV file into a pandas DataFrame\n",
    "data = pd.read_csv(csv_file_path_pandas)"
   ],
   "metadata": {
    "collapsed": false
   }
  },
  {
   "cell_type": "code",
   "execution_count": 29,
   "outputs": [
    {
     "name": "stdout",
     "output_type": "stream",
     "text": [
      "[['(1, 2, 3, 4, 5)' '(2, 1, 4, 5, 3)' '(3, 4, 5, 1, 2)']\n",
      " ['(1, 2, 3, 4, 5)' '(2, 1, 4, 5, 3)' '(3, 4, 5, 2, 1)']\n",
      " ['(1, 2, 3, 4, 5)' '(2, 1, 4, 5, 3)' '(3, 5, 1, 2, 4)']\n",
      " ...\n",
      " ['(3, 5, 4, 2, 1)' '(4, 3, 5, 1, 2)' '(5, 1, 2, 4, 3)']\n",
      " ['(3, 5, 4, 2, 1)' '(4, 3, 5, 1, 2)' '(5, 2, 1, 3, 4)']\n",
      " ['(3, 5, 4, 2, 1)' '(4, 3, 5, 1, 2)' '(5, 2, 1, 4, 3)']]\n",
      "11040\n"
     ]
    }
   ],
   "source": [
    "numpy_array = data.values\n",
    "print(numpy_array)\n",
    "print(len(numpy_array))"
   ],
   "metadata": {
    "collapsed": false
   }
  },
  {
   "cell_type": "code",
   "execution_count": 30,
   "outputs": [
    {
     "name": "stdout",
     "output_type": "stream",
     "text": [
      "10062\n"
     ]
    }
   ],
   "source": [
    "random_number = np.random.randint(0, 11041)  # upper bound is exclusive\n",
    "print(random_number)"
   ],
   "metadata": {
    "collapsed": false
   }
  },
  {
   "cell_type": "markdown",
   "source": [
    "create local directory for saving participant stimuli"
   ],
   "metadata": {
    "collapsed": false
   }
  },
  {
   "cell_type": "code",
   "execution_count": 31,
   "outputs": [
    {
     "name": "stdout",
     "output_type": "stream",
     "text": [
      "Folder './participant_data' created successfully.\n"
     ]
    }
   ],
   "source": [
    "# Directory path where you want to create the folder\n",
    "directory = \"./participant_data\"\n",
    "\n",
    "# Create the directory if it doesn't exist\n",
    "if not os.path.exists(directory):\n",
    "    os.makedirs(directory)\n",
    "    print(f\"Folder '{directory}' created successfully.\")\n",
    "else:\n",
    "    print(f\"Folder '{directory}' already exists.\")"
   ],
   "metadata": {
    "collapsed": false
   }
  },
  {
   "cell_type": "code",
   "execution_count": 34,
   "outputs": [],
   "source": [
    "def save_a_participant(participant_ID):\n",
    "    random_number = np.random.randint(0, 11041)  # upper bound is exclusive\n",
    "    mapping = numpy_array[random_number]\n",
    "    print(mapping)"
   ],
   "metadata": {
    "collapsed": false
   }
  },
  {
   "cell_type": "code",
   "execution_count": 35,
   "outputs": [
    {
     "name": "stdout",
     "output_type": "stream",
     "text": [
      "['(1, 2, 4, 5, 3)' '(3, 5, 2, 4, 1)' '(4, 1, 3, 2, 5)']\n"
     ]
    }
   ],
   "source": [
    "save_a_participant(1)"
   ],
   "metadata": {
    "collapsed": false
   }
  },
  {
   "cell_type": "code",
   "execution_count": null,
   "outputs": [],
   "source": [],
   "metadata": {
    "collapsed": false
   }
  }
 ],
 "metadata": {
  "kernelspec": {
   "display_name": "Python 3",
   "language": "python",
   "name": "python3"
  },
  "language_info": {
   "codemirror_mode": {
    "name": "ipython",
    "version": 2
   },
   "file_extension": ".py",
   "mimetype": "text/x-python",
   "name": "python",
   "nbconvert_exporter": "python",
   "pygments_lexer": "ipython2",
   "version": "2.7.6"
  }
 },
 "nbformat": 4,
 "nbformat_minor": 0
}
