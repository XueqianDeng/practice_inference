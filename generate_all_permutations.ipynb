{
 "cells": [
  {
   "cell_type": "code",
   "execution_count": 4,
   "outputs": [
    {
     "name": "stdout",
     "output_type": "stream",
     "text": [
      "Total number of valid sets: 11040\n"
     ]
    }
   ],
   "source": [
    "from itertools import permutations\n",
    "import pandas as pd\n",
    "import os\n",
    "\n",
    "def all_valid_sets(objects):\n",
    "    # Generate all possible permutations of the objects\n",
    "    all_perms = list(permutations(objects))\n",
    "\n",
    "    # Store valid sets of permutations\n",
    "    valid_sets = []\n",
    "\n",
    "    # Iterate over all possible sets of three permutations\n",
    "    for i in range(len(all_perms)):\n",
    "        for j in range(i+1, len(all_perms)):\n",
    "            for k in range(j+1, len(all_perms)):\n",
    "                perm1, perm2, perm3 = all_perms[i], all_perms[j], all_perms[k]\n",
    "                # Check if the set of three permutations is valid\n",
    "                if is_valid_set([perm1, perm2, perm3]):\n",
    "                    valid_sets.append((perm1, perm2, perm3))\n",
    "\n",
    "    return valid_sets\n",
    "\n",
    "def is_valid_set(perms):\n",
    "    # Check each position in the permutations\n",
    "    for i in range(len(perms[0])):\n",
    "        # Ensure all items in the same position are unique\n",
    "        if len({perms[0][i], perms[1][i], perms[2][i]}) < 3:\n",
    "            return False\n",
    "    return True\n",
    "\n",
    "# Define the objects\n",
    "objects = [1, 2, 3, 4, 5]\n",
    "\n",
    "# Generate all valid sets of permutations\n",
    "valid_perm_sets = all_valid_sets(objects)\n",
    "\n",
    "# Due to the potentially large number of results, let's just print the count\n",
    "print(f\"Total number of valid sets: {len(valid_perm_sets)}\")\n"
   ],
   "metadata": {
    "collapsed": false
   }
  },
  {
   "cell_type": "code",
   "execution_count": 5,
   "outputs": [
    {
     "name": "stdout",
     "output_type": "stream",
     "text": [
      "((1, 2, 3, 4, 5), (2, 1, 4, 5, 3), (5, 3, 1, 2, 4))\n"
     ]
    }
   ],
   "source": [
    "print(valid_perm_sets[8])"
   ],
   "metadata": {
    "collapsed": false
   }
  },
  {
   "cell_type": "code",
   "execution_count": 10,
   "outputs": [],
   "source": [
    "# Create a DataFrame\n",
    "df = pd.DataFrame(valid_perm_sets)\n",
    "current_directory = os.getcwd()\n",
    "\n",
    "# Define the CSV file path (using pandas this time)\n",
    "csv_file_path_pandas = current_directory + '/valid_perm_sets_pandas.csv'\n",
    "\n",
    "# Save the DataFrame to a CSV file\n",
    "df.to_csv(csv_file_path_pandas, index=False)"
   ],
   "metadata": {
    "collapsed": false
   }
  },
  {
   "cell_type": "code",
   "execution_count": 11,
   "outputs": [
    {
     "data": {
      "text/plain": "'/Users/billdeng/PycharmProjects/XueqianDeng.github.io/valid_perm_sets_pandas.csv'"
     },
     "execution_count": 11,
     "metadata": {},
     "output_type": "execute_result"
    }
   ],
   "source": [
    "csv_file_path_pandas"
   ],
   "metadata": {
    "collapsed": false
   }
  },
  {
   "cell_type": "code",
   "execution_count": null,
   "outputs": [],
   "source": [],
   "metadata": {
    "collapsed": false
   }
  }
 ],
 "metadata": {
  "kernelspec": {
   "display_name": "Python 3",
   "language": "python",
   "name": "python3"
  },
  "language_info": {
   "codemirror_mode": {
    "name": "ipython",
    "version": 2
   },
   "file_extension": ".py",
   "mimetype": "text/x-python",
   "name": "python",
   "nbconvert_exporter": "python",
   "pygments_lexer": "ipython2",
   "version": "2.7.6"
  }
 },
 "nbformat": 4,
 "nbformat_minor": 0
}
